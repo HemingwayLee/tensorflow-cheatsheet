{
 "cells": [
  {
   "cell_type": "code",
   "execution_count": 9,
   "metadata": {},
   "outputs": [
    {
     "name": "stdout",
     "output_type": "stream",
     "text": [
      "23.66\n",
      "W: [0.3] b: [-0.3] loss: 23.66\n",
      "23.66\n",
      "W: [0.3] b: [-0.3] loss: 23.66\n",
      "23.66\n",
      "W: [0.3] b: [-0.3] loss: 23.66\n",
      "23.66\n",
      "W: [0.3] b: [-0.3] loss: 23.66\n",
      "23.66\n",
      "W: [0.3] b: [-0.3] loss: 23.66\n",
      "23.66\n",
      "W: [0.3] b: [-0.3] loss: 23.66\n",
      "23.66\n",
      "W: [0.3] b: [-0.3] loss: 23.66\n",
      "23.66\n",
      "W: [0.3] b: [-0.3] loss: 23.66\n",
      "23.66\n",
      "W: [0.3] b: [-0.3] loss: 23.66\n",
      "23.66\n",
      "W: [0.3] b: [-0.3] loss: 23.66\n"
     ]
    }
   ],
   "source": [
    "import tensorflow as tf\n",
    "\n",
    "W = tf.Variable([.3], dtype=tf.float32)\n",
    "b = tf.Variable([-.3], dtype=tf.float32)\n",
    "x = tf.placeholder(tf.float32)\n",
    "linear_model = W*x + b\n",
    "y = tf.placeholder(tf.float32)\n",
    "\n",
    "err = tf.square(linear_model - y)\n",
    "loss = tf.reduce_sum(err) # sum of the squares\n",
    "\n",
    "x_train = [1, 2, 3, 4]\n",
    "y_train = [0, -1, -2, -3]\n",
    "\n",
    "init = tf.global_variables_initializer()\n",
    "sess = tf.Session()\n",
    "sess.run(init)\n",
    "for i in range(10):\n",
    "  print(sess.run(loss, {x: x_train, y: y_train}))\n",
    "\n",
    "  curr_W, curr_b, curr_loss = sess.run([W, b, loss], {x: x_train, y: y_train})\n",
    "  print(\"W: %s b: %s loss: %s\"%(curr_W, curr_b, curr_loss))"
   ]
  },
  {
   "cell_type": "code",
   "execution_count": 10,
   "metadata": {},
   "outputs": [
    {
     "name": "stdout",
     "output_type": "stream",
     "text": [
      "None\n",
      "W: [-0.21999997] b: [-0.45600003] loss: 4.018144\n",
      "None\n",
      "W: [-0.39679998] b: [-0.49552003] loss: 1.8198743\n",
      "None\n",
      "W: [-0.45961598] b: [-0.49651843] loss: 1.5448234\n",
      "None\n",
      "W: [-0.4845427] b: [-0.48487377] loss: 1.4825068\n",
      "None\n",
      "W: [-0.49684232] b: [-0.46917534] loss: 1.4443971\n",
      "None\n",
      "W: [-0.5049019] b: [-0.45227286] loss: 1.4096991\n",
      "None\n",
      "W: [-0.5115062] b: [-0.43511066] loss: 1.376103\n",
      "None\n",
      "W: [-0.51758033] b: [-0.41800058] loss: 1.3433374\n",
      "None\n",
      "W: [-0.523432] b: [-0.40104446] loss: 1.3113551\n",
      "None\n",
      "W: [-0.5291639] b: [-0.3842745] loss: 1.2801344\n"
     ]
    }
   ],
   "source": [
    "# build-in optimizer\n",
    "optimizer = tf.train.GradientDescentOptimizer(0.01)\n",
    "train = optimizer.minimize(loss)\n",
    "\n",
    "\n",
    "for i in range(10):\n",
    "  print(sess.run(train, {x: x_train, y: y_train}))\n",
    "\n",
    "  curr_W, curr_b, curr_loss = sess.run([W, b, loss], {x: x_train, y: y_train})\n",
    "  print(\"W: %s b: %s loss: %s\"%(curr_W, curr_b, curr_loss))"
   ]
  }
 ],
 "metadata": {
  "kernelspec": {
   "display_name": "Python 3",
   "language": "python",
   "name": "python3"
  },
  "language_info": {
   "codemirror_mode": {
    "name": "ipython",
    "version": 3
   },
   "file_extension": ".py",
   "mimetype": "text/x-python",
   "name": "python",
   "nbconvert_exporter": "python",
   "pygments_lexer": "ipython3",
   "version": "3.7.6"
  }
 },
 "nbformat": 4,
 "nbformat_minor": 2
}
