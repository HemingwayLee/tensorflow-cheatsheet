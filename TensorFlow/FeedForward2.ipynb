{
 "cells": [
  {
   "cell_type": "code",
   "execution_count": 24,
   "metadata": {},
   "outputs": [
    {
     "name": "stdout",
     "output_type": "stream",
     "text": [
      "[[0.3       0.6       1.1      ]\n",
      " [0.5       1.1       2.1000001]]\n"
     ]
    }
   ],
   "source": [
    "import tensorflow as tf\n",
    "\n",
    "W = tf.Variable([[.1, .2, .3], [.2, .4, .6]], dtype=tf.float32)\n",
    "b = tf.Variable([[.2], [.3]], dtype=tf.float32)\n",
    "x = tf.placeholder(tf.float32)\n",
    "\n",
    "linear_model = W*x + b\n",
    "\n",
    "init = tf.global_variables_initializer()\n",
    "sess = tf.Session()\n",
    "sess.run(init)\n",
    "print(sess.run(linear_model, {x: [1., 2., 3.]}))\n"
   ]
  },
  {
   "cell_type": "code",
   "execution_count": 25,
   "metadata": {},
   "outputs": [
    {
     "name": "stdout",
     "output_type": "stream",
     "text": [
      "5.7\n",
      "[2.        3.7000003]\n"
     ]
    }
   ],
   "source": [
    "summary = tf.reduce_sum(linear_model)\n",
    "print(sess.run(summary, {x: [1., 2., 3.]}))\n",
    "\n",
    "summary_1 = tf.reduce_sum(linear_model, 1)\n",
    "print(sess.run(summary_1, {x: [1., 2., 3.]}))"
   ]
  },
  {
   "cell_type": "code",
   "execution_count": 26,
   "metadata": {},
   "outputs": [
    {
     "name": "stdout",
     "output_type": "stream",
     "text": [
      "[0.880797 0.975873]\n"
     ]
    }
   ],
   "source": [
    "sig = tf.nn.sigmoid(summary_1)\n",
    "print(sess.run(sig, {x: [1., 2., 3.]}))"
   ]
  },
  {
   "cell_type": "code",
   "execution_count": 27,
   "metadata": {},
   "outputs": [
    {
     "name": "stdout",
     "output_type": "stream",
     "text": [
      "0.7763855\n",
      "W: [[0.1 0.2 0.3]\n",
      " [0.2 0.4 0.6]] b: [[0.2]\n",
      " [0.3]] loss: 0.7763855\n",
      "0.7763855\n",
      "W: [[0.1 0.2 0.3]\n",
      " [0.2 0.4 0.6]] b: [[0.2]\n",
      " [0.3]] loss: 0.7763855\n",
      "0.7763855\n",
      "W: [[0.1 0.2 0.3]\n",
      " [0.2 0.4 0.6]] b: [[0.2]\n",
      " [0.3]] loss: 0.7763855\n"
     ]
    }
   ],
   "source": [
    "y = tf.placeholder(tf.float32)\n",
    "\n",
    "err = tf.square(sig - y)\n",
    "loss = tf.reduce_sum(err)\n",
    "\n",
    "x_train = [1., 2., 3.]\n",
    "y_train = [0., 1.]\n",
    "\n",
    "init = tf.global_variables_initializer()\n",
    "sess = tf.Session()\n",
    "sess.run(init)\n",
    "for i in range(3):\n",
    "  print(sess.run(loss, {x: x_train, y: y_train}))\n",
    "\n",
    "  curr_W, curr_b, curr_loss = sess.run([W, b, loss], {x: x_train, y: y_train})\n",
    "  print(\"W: %s b: %s loss: %s\"%(curr_W, curr_b, curr_loss))"
   ]
  },
  {
   "cell_type": "code",
   "execution_count": 33,
   "metadata": {},
   "outputs": [
    {
     "name": "stdout",
     "output_type": "stream",
     "text": [
      "None\n",
      "W: [[0.03169956 0.06339911 0.09509867]\n",
      " [0.20030476 0.40060952 0.60091436]]\n",
      "b: [[-0.00490132]\n",
      " [ 0.30091435]]\n",
      "loss: 0.3673938\n",
      "Sig: [0.6056563 0.9760375]\n",
      "y: [0. 1.]\n",
      "err: [0.3668196 0.0005742]\n",
      "None\n",
      "W: [[0.0288065  0.05761299 0.08641949]\n",
      " [0.20031597 0.40063193 0.600948  ]]\n",
      "b: [[-0.01358049]\n",
      " [ 0.30094796]]\n",
      "loss: 0.3482698\n",
      "Sig: [0.5896574 0.9760435]\n",
      "y: [0. 1.]\n",
      "err: [0.3476959  0.00057391]\n",
      "None\n",
      "W: [[0.02595301 0.05190602 0.07785902]\n",
      " [0.20032717 0.40065435 0.6009816 ]]\n",
      "b: [[-0.02214096]\n",
      " [ 0.30098158]]\n",
      "loss: 0.32969296\n",
      "Sig: [0.5736892  0.97604954]\n",
      "y: [0. 1.]\n",
      "err: [0.32911932 0.00057362]\n",
      "None\n",
      "W: [[0.02314687 0.04629373 0.0694406 ]\n",
      " [0.20033836 0.40067673 0.6010152 ]]\n",
      "b: [[-0.03055939]\n",
      " [ 0.30101517]]\n",
      "loss: 0.31175268\n",
      "Sig: [0.5578345  0.97605556]\n",
      "y: [0. 1.]\n",
      "err: [0.31117934 0.00057334]\n",
      "None\n",
      "W: [[0.02039501 0.04079002 0.06118503]\n",
      " [0.20034955 0.4006991  0.60104877]]\n",
      "b: [[-0.03881495]\n",
      " [ 0.30104876]]\n",
      "loss: 0.29452232\n",
      "Sig: [0.5421709 0.9760616]\n",
      "y: [0. 1.]\n",
      "err: [0.29394928 0.00057305]\n"
     ]
    }
   ],
   "source": [
    "# build-in optimizer\n",
    "optimizer = tf.train.GradientDescentOptimizer(0.01)\n",
    "train = optimizer.minimize(loss)\n",
    "\n",
    "for i in range(5):\n",
    "  print(sess.run(train, {x: x_train, y: y_train}))\n",
    "\n",
    "  curr_W, curr_b, curr_loss = sess.run([W, b, loss], {x: x_train, y: y_train})\n",
    "  print(\"W: %s\\nb: %s\\nloss: %s\"%(curr_W, curr_b, curr_loss))\n",
    "\n",
    "  curr_Sig, curr_y, curr_err = sess.run([sig, y, err], {x: x_train, y: y_train})\n",
    "  print(\"Sig: %s\\ny: %s\\nerr: %s\"%(curr_Sig, curr_y, curr_err))"
   ]
  }
 ],
 "metadata": {
  "kernelspec": {
   "display_name": "Python 3",
   "language": "python",
   "name": "python3"
  },
  "language_info": {
   "codemirror_mode": {
    "name": "ipython",
    "version": 3
   },
   "file_extension": ".py",
   "mimetype": "text/x-python",
   "name": "python",
   "nbconvert_exporter": "python",
   "pygments_lexer": "ipython3",
   "version": "3.7.6"
  }
 },
 "nbformat": 4,
 "nbformat_minor": 2
}
