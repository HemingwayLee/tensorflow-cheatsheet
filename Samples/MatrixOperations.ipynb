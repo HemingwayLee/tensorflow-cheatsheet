{
 "cells": [
  {
   "cell_type": "code",
   "execution_count": 1,
   "metadata": {},
   "outputs": [
    {
     "name": "stdout",
     "output_type": "stream",
     "text": [
      "sess.run(a*b):  [[12.]]\n"
     ]
    }
   ],
   "source": [
    "import tensorflow as tf\n",
    "\n",
    "#a 1x2 matrix\n",
    "a = tf.constant([[3., 3.]])\n",
    "\n",
    "#a 2x1 matrix\n",
    "b = tf.constant([[2.],[2.]]) \n",
    "\n",
    "product = tf.matmul(a, b)\n",
    "\n",
    "sess = tf.Session()\n",
    "print(\"sess.run(a*b): \", sess.run(product))"
   ]
  }
 ],
 "metadata": {
  "kernelspec": {
   "display_name": "Python 3",
   "language": "python",
   "name": "python3"
  },
  "language_info": {
   "codemirror_mode": {
    "name": "ipython",
    "version": 3
   },
   "file_extension": ".py",
   "mimetype": "text/x-python",
   "name": "python",
   "nbconvert_exporter": "python",
   "pygments_lexer": "ipython3",
   "version": "3.7.6"
  }
 },
 "nbformat": 4,
 "nbformat_minor": 2
}
