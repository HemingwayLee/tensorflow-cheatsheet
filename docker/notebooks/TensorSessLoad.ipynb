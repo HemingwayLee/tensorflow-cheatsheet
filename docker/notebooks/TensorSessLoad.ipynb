{
 "cells": [
  {
   "cell_type": "code",
   "execution_count": 10,
   "id": "eef38585",
   "metadata": {},
   "outputs": [
    {
     "name": "stdout",
     "output_type": "stream",
     "text": [
      "INFO:tensorflow:Restoring parameters from ../artifacts/1625390817.8325164/\n",
      "W: [0.3], b:[-0.3]\n"
     ]
    }
   ],
   "source": [
    "import os\n",
    "import time\n",
    "import tensorflow.compat.v1 as tf\n",
    "tf.disable_v2_behavior() \n",
    "\n",
    "# delete the current graph\n",
    "tf.reset_default_graph()\n",
    "imported_graph = tf.train.import_meta_graph('../artifacts/1625390817.8325164/.meta')\n",
    "with tf.Session() as sess:\n",
    "    imported_graph.restore(sess, '../artifacts/1625390817.8325164/')    \n",
    "    curr_W, curr_b = sess.run(['myW:0', 'myb:0'], {'myx:0': [1, 2, 3, 4]})\n",
    "    print(f\"W: {curr_W}, b:{curr_b}\")"
   ]
  }
 ],
 "metadata": {
  "kernelspec": {
   "display_name": "Python 3 (ipykernel)",
   "language": "python",
   "name": "python3"
  },
  "language_info": {
   "codemirror_mode": {
    "name": "ipython",
    "version": 3
   },
   "file_extension": ".py",
   "mimetype": "text/x-python",
   "name": "python",
   "nbconvert_exporter": "python",
   "pygments_lexer": "ipython3",
   "version": "3.9.5"
  }
 },
 "nbformat": 4,
 "nbformat_minor": 5
}
