{
 "cells": [
  {
   "cell_type": "code",
   "execution_count": 1,
   "id": "30ec83ae",
   "metadata": {},
   "outputs": [
    {
     "name": "stdout",
     "output_type": "stream",
     "text": [
      "WARNING:tensorflow:From /opt/conda/lib/python3.9/site-packages/tensorflow/python/compat/v2_compat.py:96: disable_resource_variables (from tensorflow.python.ops.variable_scope) is deprecated and will be removed in a future version.\n",
      "Instructions for updating:\n",
      "non-resource variables are not supported in the long term\n"
     ]
    }
   ],
   "source": [
    "import numpy as np\n",
    "import tensorflow.compat.v1 as tf\n",
    "\n",
    "# the order matters\n",
    "tf.disable_v2_behavior()\n",
    "tf.enable_eager_execution() \n"
   ]
  },
  {
   "cell_type": "code",
   "execution_count": 2,
   "id": "a2f9ab21",
   "metadata": {},
   "outputs": [],
   "source": [
    "learning_rate = 0.01\n",
    "training_steps = 450\n",
    "display_step = 150\n",
    "log_step = 15\n",
    "\n",
    "X = np.array([3.3,4.4,5.5,6.71,6.93,4.168,9.779,6.182,7.59,2.167, 7.042,10.791,5.313,7.997,5.654,9.27,3.1])\n",
    "Y = np.array([1.7,2.76,2.09,3.19,1.694,1.573,3.366,2.596,2.53,1.221, 2.827,3.465,1.65,2.904,2.42,2.94,1.3])\n",
    "\n",
    "W = tf.Variable(np.random.randn(), name=\"weight\")\n",
    "b = tf.Variable(np.random.randn(), name=\"bias\")"
   ]
  },
  {
   "cell_type": "code",
   "execution_count": 3,
   "id": "91f34f2f",
   "metadata": {},
   "outputs": [],
   "source": [
    "def linear_regression(x):\n",
    "    return W * x + b\n",
    "\n",
    "def mean_square(y_pred, y_true):\n",
    "    return tf.reduce_mean(tf.square(y_pred - y_true))\n",
    "\n",
    "def run_optimization():\n",
    "    with tf.GradientTape() as g:\n",
    "        pred = linear_regression(X)\n",
    "        loss = mean_square(pred, Y)\n",
    "\n",
    "    gradients = g.gradient(loss, [W, b])\n",
    "    \n",
    "    optimizer = tf.train.GradientDescentOptimizer(learning_rate)\n",
    "    optimizer.apply_gradients(zip(gradients, [W, b]))"
   ]
  },
  {
   "cell_type": "code",
   "execution_count": 4,
   "id": "9731313f",
   "metadata": {},
   "outputs": [
    {
     "name": "stdout",
     "output_type": "stream",
     "text": [
      "step: 0, loss: 0.947166, W: 0.447241, b: -1.183544\n",
      "step: 15, loss: 0.600848, W: 0.519659, b: -1.101369\n",
      "step: 30, loss: 0.569414, W: 0.510063, b: -1.033338\n",
      "step: 45, loss: 0.540191, W: 0.500811, b: -0.967743\n",
      "step: 60, loss: 0.513023, W: 0.491890, b: -0.904496\n",
      "step: 75, loss: 0.487765, W: 0.483288, b: -0.843514\n",
      "step: 90, loss: 0.464284, W: 0.474994, b: -0.784715\n",
      "step: 105, loss: 0.442454, W: 0.466997, b: -0.728021\n",
      "step: 120, loss: 0.422159, W: 0.459287, b: -0.673357\n",
      "step: 135, loss: 0.403291, W: 0.451852, b: -0.620650\n",
      "step: 150, loss: 0.385750, W: 0.444684, b: -0.569830\n",
      "step: 165, loss: 0.369443, W: 0.437772, b: -0.520830\n",
      "step: 180, loss: 0.354282, W: 0.431108, b: -0.473584\n",
      "step: 195, loss: 0.340188, W: 0.424683, b: -0.428029\n",
      "step: 210, loss: 0.327084, W: 0.418487, b: -0.384106\n",
      "step: 225, loss: 0.314902, W: 0.412513, b: -0.341755\n",
      "step: 240, loss: 0.303577, W: 0.406754, b: -0.300920\n",
      "step: 255, loss: 0.293048, W: 0.401200, b: -0.261547\n",
      "step: 270, loss: 0.283260, W: 0.395845, b: -0.223584\n",
      "step: 285, loss: 0.274160, W: 0.390682, b: -0.186980\n",
      "step: 300, loss: 0.265700, W: 0.385704, b: -0.151687\n",
      "step: 315, loss: 0.257835, W: 0.380904, b: -0.117657\n",
      "step: 330, loss: 0.250523, W: 0.376276, b: -0.084845\n",
      "step: 345, loss: 0.243725, W: 0.371813, b: -0.053208\n",
      "step: 360, loss: 0.237405, W: 0.367510, b: -0.022704\n",
      "step: 375, loss: 0.231530, W: 0.363362, b: 0.006708\n",
      "step: 390, loss: 0.226068, W: 0.359362, b: 0.035067\n",
      "step: 405, loss: 0.220990, W: 0.355505, b: 0.062410\n",
      "step: 420, loss: 0.216269, W: 0.351786, b: 0.088775\n",
      "step: 435, loss: 0.211880, W: 0.348200, b: 0.114196\n"
     ]
    }
   ],
   "source": [
    "history_W = []\n",
    "history_b = []\n",
    "for step in range(0, training_steps):\n",
    "    run_optimization()\n",
    "    \n",
    "    if step % display_step == 0:\n",
    "        # use tf.identity to make a copy\n",
    "        history_W.append(tf.identity(W))\n",
    "        history_b.append(tf.identity(b)) \n",
    "    \n",
    "    if step % log_step == 0:\n",
    "        pred = linear_regression(X)\n",
    "        loss = mean_square(pred, Y)\n",
    "        print(\"step: %i, loss: %f, W: %f, b: %f\" % (step, loss, W.numpy(), b.numpy()))"
   ]
  },
  {
   "cell_type": "code",
   "execution_count": 5,
   "id": "db68eac2",
   "metadata": {},
   "outputs": [
    {
     "data": {
      "image/png": "[encoded data removed]",
      "text/plain": [
       "<Figure size 432x288 with 1 Axes>"
      ]
     },
     "metadata": {
      "needs_background": "light"
     },
     "output_type": "display_data"
    }
   ],
   "source": [
    "import matplotlib.pyplot as plt\n",
    "plt.plot(X, Y, 'ro', label='Original data')\n",
    "plt.plot(X, np.array(W * X + b), label='Fitted line')\n",
    "plt.legend()\n",
    "plt.show()"
   ]
  },
  {
   "cell_type": "code",
   "execution_count": 6,
   "id": "a5f522dc",
   "metadata": {},
   "outputs": [
    {
     "name": "stdout",
     "output_type": "stream",
     "text": [
      "W: 0.4472409188747406, b: -1.1835441589355469\n",
      "W: 0.44468405842781067, b: -0.5698301792144775\n",
      "W: 0.38570377230644226, b: -0.15168651938438416\n",
      "W: 0.3449696898460388, b: 0.1370997279882431\n"
     ]
    },
    {
     "data": {
      "image/png": "[encoded data removed]",
      "text/plain": [
       "<Figure size 432x288 with 4 Axes>"
      ]
     },
     "metadata": {
      "needs_background": "light"
     },
     "output_type": "display_data"
    }
   ],
   "source": [
    "# Push the final result into history\n",
    "history_W.append(tf.identity(W))\n",
    "history_b.append(tf.identity(b))\n",
    "\n",
    "fig, ax = plt.subplots(nrows=2, ncols=2)\n",
    "idx = 0\n",
    "for row in ax:\n",
    "    for col in row:\n",
    "        print(f\"W: {history_W[idx]}, b: {history_b[idx]}\")\n",
    "        col.plot(X, Y, 'ro', label='Original data')\n",
    "        col.plot(X, np.array(history_W[idx] * X + history_b[idx]), label='Fitted line')\n",
    "        idx = idx + 1\n",
    "\n",
    "plt.show()"
   ]
  }
 ],
 "metadata": {
  "kernelspec": {
   "display_name": "Python 3",
   "language": "python",
   "name": "python3"
  },
  "language_info": {
   "codemirror_mode": {
    "name": "ipython",
    "version": 3
   },
   "file_extension": ".py",
   "mimetype": "text/x-python",
   "name": "python",
   "nbconvert_exporter": "python",
   "pygments_lexer": "ipython3",
   "version": "3.9.4"
  }
 },
 "nbformat": 4,
 "nbformat_minor": 5
}
