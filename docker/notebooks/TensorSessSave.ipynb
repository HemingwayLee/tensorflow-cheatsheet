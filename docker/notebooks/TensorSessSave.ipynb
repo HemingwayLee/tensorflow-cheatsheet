{
 "cells": [
  {
   "cell_type": "markdown",
   "id": "d040d024",
   "metadata": {},
   "source": [
    "# Demo Tensor\n",
    "* `linear_model` is `Tensor`"
   ]
  },
  {
   "cell_type": "code",
   "execution_count": 13,
   "id": "6826d85f",
   "metadata": {},
   "outputs": [
    {
     "name": "stdout",
     "output_type": "stream",
     "text": [
      "Tensor(\"add_4:0\", dtype=float32)\n"
     ]
    }
   ],
   "source": [
    "import os\n",
    "import time\n",
    "import tensorflow.compat.v1 as tf\n",
    "tf.disable_v2_behavior() \n",
    "\n",
    "W = tf.Variable([.3], dtype=tf.float32, name=\"myW\")\n",
    "b = tf.Variable([-.3], dtype=tf.float32, name=\"myb\")\n",
    "x = tf.placeholder(tf.float32, name=\"myx\")\n",
    "linear_model = W*x + b\n",
    "\n",
    "print(linear_model)"
   ]
  },
  {
   "cell_type": "code",
   "execution_count": 14,
   "id": "4bd894cf",
   "metadata": {},
   "outputs": [
    {
     "name": "stdout",
     "output_type": "stream",
     "text": [
      "result of linear model\n",
      "[0.         0.3        0.6        0.90000004]\n",
      "each variable\n",
      "W: [0.3], b:[-0.3]\n",
      "result of linear model\n",
      "[0.         0.3        0.6        0.90000004]\n",
      "each variable\n",
      "W: [0.3], b:[-0.3]\n",
      "result of linear model\n",
      "[0.         0.3        0.6        0.90000004]\n",
      "each variable\n",
      "W: [0.3], b:[-0.3]\n"
     ]
    }
   ],
   "source": [
    "init = tf.global_variables_initializer()\n",
    "sess = tf.Session()\n",
    "sess.run(init)\n",
    "for i in range(3):\n",
    "    print(\"result of linear model\")\n",
    "    print(sess.run(linear_model, {x: [1, 2, 3, 4]}))\n",
    "    print(\"each variable\")\n",
    "    curr_W, curr_b = sess.run([W, b], {x: [1, 2, 3, 4]})\n",
    "    print(f\"W: {curr_W}, b:{curr_b}\")"
   ]
  },
  {
   "cell_type": "markdown",
   "id": "e91d4ecf",
   "metadata": {},
   "source": [
    "* Saving Tensors itself is useless, because they are just a group of numbers\n",
    "  * Tensors can be saved with numpy library\n",
    "* The sess can be saved and loaded"
   ]
  },
  {
   "cell_type": "code",
   "execution_count": 17,
   "id": "46abe7d8",
   "metadata": {},
   "outputs": [
    {
     "name": "stdout",
     "output_type": "stream",
     "text": [
      "1625390817.8325164\n"
     ]
    },
    {
     "data": {
      "text/plain": [
       "['.meta', 'checkpoint', '.index', '.data-00000-of-00001']"
      ]
     },
     "execution_count": 17,
     "metadata": {},
     "output_type": "execute_result"
    }
   ],
   "source": [
    "saver = tf.train.Saver()\n",
    "now = time.time()\n",
    "os.mkdir(f'../artifacts/{now}/')\n",
    "saver.save(sess, f'../artifacts/{now}/')\n",
    "\n",
    "print(now)\n",
    "os.listdir(f'../artifacts/{now}/')"
   ]
  },
  {
   "cell_type": "markdown",
   "id": "68dfc272",
   "metadata": {},
   "source": [
    "* `.meta` is the graph file"
   ]
  }
 ],
 "metadata": {
  "kernelspec": {
   "display_name": "Python 3 (ipykernel)",
   "language": "python",
   "name": "python3"
  },
  "language_info": {
   "codemirror_mode": {
    "name": "ipython",
    "version": 3
   },
   "file_extension": ".py",
   "mimetype": "text/x-python",
   "name": "python",
   "nbconvert_exporter": "python",
   "pygments_lexer": "ipython3",
   "version": "3.9.5"
  }
 },
 "nbformat": 4,
 "nbformat_minor": 5
}
