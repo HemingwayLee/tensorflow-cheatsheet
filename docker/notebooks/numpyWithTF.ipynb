{
 "cells": [
  {
   "cell_type": "code",
   "execution_count": 3,
   "id": "394a9712",
   "metadata": {},
   "outputs": [],
   "source": [
    "import numpy as np\n",
    "import tensorflow.compat.v1 as tf\n",
    "tf.disable_v2_behavior()"
   ]
  },
  {
   "cell_type": "markdown",
   "id": "23f1b9dd",
   "metadata": {},
   "source": [
    "# constant"
   ]
  },
  {
   "cell_type": "code",
   "execution_count": 4,
   "id": "511be8e6",
   "metadata": {},
   "outputs": [
    {
     "name": "stdout",
     "output_type": "stream",
     "text": [
      "1.1903238\n"
     ]
    }
   ],
   "source": [
    "hello = tf.constant(np.random.randn())\n",
    "\n",
    "sess = tf.Session()\n",
    "print(sess.run(hello))"
   ]
  },
  {
   "cell_type": "markdown",
   "id": "2324b0cd",
   "metadata": {},
   "source": [
    "# variable"
   ]
  },
  {
   "cell_type": "code",
   "execution_count": 5,
   "id": "52a38aa0",
   "metadata": {},
   "outputs": [
    {
     "name": "stdout",
     "output_type": "stream",
     "text": [
      "[3.3]\n",
      "[0.3]\n",
      "[3.6]\n",
      "[3.6]\n"
     ]
    }
   ],
   "source": [
    "a = tf.Variable(np.array([3.3]), dtype=tf.float32)\n",
    "b = tf.Variable([.3], dtype=tf.float32)\n",
    "\n",
    "with tf.Session() as session:\n",
    "    # init is necessary for printing\n",
    "    init = tf.global_variables_initializer()\n",
    "    session.run(init)\n",
    "    print(session.run(a))\n",
    "    print(session.run(b))\n",
    "    print(session.run(a+b))\n",
    "    print(session.run(tf.add(a, b)))"
   ]
  },
  {
   "cell_type": "markdown",
   "id": "7446f643",
   "metadata": {},
   "source": [
    "# Placeholder"
   ]
  },
  {
   "cell_type": "code",
   "execution_count": 6,
   "id": "af081020",
   "metadata": {},
   "outputs": [
    {
     "name": "stdout",
     "output_type": "stream",
     "text": [
      "[7.8]\n",
      "[6.3]\n"
     ]
    }
   ],
   "source": [
    "a = tf.placeholder(tf.float32)\n",
    "b = tf.placeholder(tf.float32)\n",
    "\n",
    "adder_node2 = tf.add(a, b)\n",
    "adder_node = a + b \n",
    "\n",
    "print(sess.run(adder_node, {a: np.array([3.3]), b: 4.5}))\n",
    "print(sess.run(adder_node2, {a: 3, b: np.array([3.3])}))"
   ]
  }
 ],
 "metadata": {
  "kernelspec": {
   "display_name": "Python 3",
   "language": "python",
   "name": "python3"
  },
  "language_info": {
   "codemirror_mode": {
    "name": "ipython",
    "version": 3
   },
   "file_extension": ".py",
   "mimetype": "text/x-python",
   "name": "python",
   "nbconvert_exporter": "python",
   "pygments_lexer": "ipython3",
   "version": "3.9.4"
  }
 },
 "nbformat": 4,
 "nbformat_minor": 5
}
