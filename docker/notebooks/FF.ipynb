{
 "cells": [
  {
   "cell_type": "code",
   "execution_count": 4,
   "id": "3c02ea8d",
   "metadata": {},
   "outputs": [
    {
     "name": "stdout",
     "output_type": "stream",
     "text": [
      "WARNING:tensorflow:From /opt/conda/lib/python3.9/site-packages/tensorflow/python/compat/v2_compat.py:96: disable_resource_variables (from tensorflow.python.ops.variable_scope) is deprecated and will be removed in a future version.\n",
      "Instructions for updating:\n",
      "non-resource variables are not supported in the long term\n",
      "23.66\n",
      "W: [0.3] b: [-0.3] loss: 23.66\n",
      "23.66\n",
      "W: [0.3] b: [-0.3] loss: 23.66\n",
      "23.66\n",
      "W: [0.3] b: [-0.3] loss: 23.66\n",
      "23.66\n",
      "W: [0.3] b: [-0.3] loss: 23.66\n",
      "23.66\n",
      "W: [0.3] b: [-0.3] loss: 23.66\n",
      "23.66\n",
      "W: [0.3] b: [-0.3] loss: 23.66\n",
      "23.66\n",
      "W: [0.3] b: [-0.3] loss: 23.66\n",
      "23.66\n",
      "W: [0.3] b: [-0.3] loss: 23.66\n",
      "23.66\n",
      "W: [0.3] b: [-0.3] loss: 23.66\n",
      "23.66\n",
      "W: [0.3] b: [-0.3] loss: 23.66\n"
     ]
    }
   ],
   "source": [
    "# import tensorflow as tf\n",
    "import tensorflow.compat.v1 as tf\n",
    "tf.disable_v2_behavior() \n",
    "\n",
    "W = tf.Variable([.3], dtype=tf.float32)\n",
    "b = tf.Variable([-.3], dtype=tf.float32)\n",
    "x = tf.placeholder(tf.float32)\n",
    "linear_model = W*x + b\n",
    "y = tf.placeholder(tf.float32)\n",
    "\n",
    "err = tf.square(linear_model - y)\n",
    "loss = tf.reduce_sum(err) # sum of the squares\n",
    "\n",
    "x_train = [1, 2, 3, 4]\n",
    "y_train = [0, -1, -2, -3]\n",
    "\n",
    "init = tf.global_variables_initializer()\n",
    "sess = tf.Session()\n",
    "sess.run(init)\n",
    "for i in range(10):\n",
    "  print(sess.run(loss, {x: x_train, y: y_train}))\n",
    "\n",
    "  curr_W, curr_b, curr_loss = sess.run([W, b, loss], {x: x_train, y: y_train})\n",
    "  print(\"W: %s b: %s loss: %s\"%(curr_W, curr_b, curr_loss))"
   ]
  },
  {
   "cell_type": "code",
   "execution_count": 5,
   "id": "153d011c",
   "metadata": {},
   "outputs": [
    {
     "name": "stdout",
     "output_type": "stream",
     "text": [
      "None\n",
      "W: [-0.21999997] b: [-0.456] loss: 4.0181446\n",
      "None\n",
      "W: [-0.39679998] b: [-0.49552] loss: 1.8198745\n",
      "None\n",
      "W: [-0.459616] b: [-0.4965184] loss: 1.5448234\n",
      "None\n",
      "W: [-0.48454273] b: [-0.48487374] loss: 1.4825068\n",
      "None\n",
      "W: [-0.49684232] b: [-0.4691753] loss: 1.444397\n",
      "None\n",
      "W: [-0.5049019] b: [-0.45227283] loss: 1.409699\n",
      "None\n",
      "W: [-0.5115062] b: [-0.43511063] loss: 1.3761029\n",
      "None\n",
      "W: [-0.51758033] b: [-0.41800055] loss: 1.3433373\n",
      "None\n",
      "W: [-0.523432] b: [-0.40104443] loss: 1.3113549\n",
      "None\n",
      "W: [-0.52916396] b: [-0.38427448] loss: 1.2801344\n"
     ]
    }
   ],
   "source": [
    "# build-in optimizer\n",
    "optimizer = tf.train.GradientDescentOptimizer(0.01)\n",
    "train = optimizer.minimize(loss)\n",
    "\n",
    "\n",
    "for i in range(10):\n",
    "  print(sess.run(train, {x: x_train, y: y_train}))\n",
    "\n",
    "  curr_W, curr_b, curr_loss = sess.run([W, b, loss], {x: x_train, y: y_train})\n",
    "  print(\"W: %s b: %s loss: %s\"%(curr_W, curr_b, curr_loss))"
   ]
  }
 ],
 "metadata": {
  "kernelspec": {
   "display_name": "Python 3",
   "language": "python",
   "name": "python3"
  },
  "language_info": {
   "codemirror_mode": {
    "name": "ipython",
    "version": 3
   },
   "file_extension": ".py",
   "mimetype": "text/x-python",
   "name": "python",
   "nbconvert_exporter": "python",
   "pygments_lexer": "ipython3",
   "version": "3.9.4"
  }
 },
 "nbformat": 4,
 "nbformat_minor": 5
}
