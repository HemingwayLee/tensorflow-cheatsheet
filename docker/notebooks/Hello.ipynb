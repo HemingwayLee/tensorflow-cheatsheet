{
 "cells": [
  {
   "cell_type": "markdown",
   "id": "2c361eae",
   "metadata": {},
   "source": [
    "# Hello world example of Tensorflow\n",
    "* tf2 is different from tf1"
   ]
  },
  {
   "cell_type": "code",
   "execution_count": 8,
   "id": "455c7644",
   "metadata": {},
   "outputs": [
    {
     "data": {
      "text/plain": [
       "'2.4.1'"
      ]
     },
     "execution_count": 8,
     "metadata": {},
     "output_type": "execute_result"
    }
   ],
   "source": [
    "import tensorflow.compat.v1 as tf\n",
    "tf.disable_v2_behavior()\n",
    "\n",
    "tf.__version__"
   ]
  },
  {
   "cell_type": "code",
   "execution_count": 9,
   "id": "b7077295",
   "metadata": {},
   "outputs": [
    {
     "name": "stdout",
     "output_type": "stream",
     "text": [
      "b'Hello, TensorFlow!'\n"
     ]
    }
   ],
   "source": [
    "hello = tf.constant('Hello, TensorFlow!')\n",
    "\n",
    "sess = tf.Session()\n",
    "print(sess.run(hello))"
   ]
  },
  {
   "cell_type": "markdown",
   "id": "0be9d1df",
   "metadata": {},
   "source": [
    "## What is `session` ?\n",
    "* You will not get the values of a tensors `a/b/c/d` now. There values will be evaluated only inside of the Session"
   ]
  },
  {
   "cell_type": "code",
   "execution_count": 17,
   "id": "e97e63f1",
   "metadata": {},
   "outputs": [],
   "source": [
    "a = tf.constant(3.0)\n",
    "b = tf.constant(4.0)\n",
    "c = a + b\n",
    "d = a * b"
   ]
  },
  {
   "cell_type": "markdown",
   "id": "82c989dc",
   "metadata": {},
   "source": [
    "* A `Session` object encapsulates the environment in which Operation objects are executed, and Tensor objects are evaluated"
   ]
  },
  {
   "cell_type": "code",
   "execution_count": 16,
   "id": "afba6faa",
   "metadata": {},
   "outputs": [
    {
     "name": "stdout",
     "output_type": "stream",
     "text": [
      "7.0\n",
      "12.0\n"
     ]
    }
   ],
   "source": [
    "print(sess.run(c))\n",
    "print(sess.run(d))"
   ]
  },
  {
   "cell_type": "markdown",
   "id": "6d08f711",
   "metadata": {},
   "source": [
    "* There is no `graph` specified above\n",
    "* Since a default graph is always registered, every op and variable is placed into the default graph\n",
    "\n",
    "## What is `graph`\n",
    "* A graph defines the computation but it doesn’t compute anything\n",
    "* It doesn’t hold any values, it just defines the operations that you specified in your code"
   ]
  },
  {
   "cell_type": "code",
   "execution_count": 20,
   "id": "e30a815a",
   "metadata": {},
   "outputs": [
    {
     "name": "stdout",
     "output_type": "stream",
     "text": [
      "7.0\n"
     ]
    }
   ],
   "source": [
    "# this is not necessary, because TensorFlow creates a default graph for you\n",
    "with tf.Graph().as_default() as graph:\n",
    "    aa = tf.constant(3.0)\n",
    "    bb = tf.constant(4.0)\n",
    "    cc = aa + bb\n",
    "    \n",
    "    with tf.Session(graph=graph) as session:\n",
    "        print(session.run(cc))"
   ]
  },
  {
   "cell_type": "markdown",
   "id": "a415282f",
   "metadata": {},
   "source": [
    "* If the graph is the only graph, it's useless. But it's a good practice because if you start to work with many graphs it's easier to understand where ops and vars are placed. "
   ]
  }
 ],
 "metadata": {
  "kernelspec": {
   "display_name": "Python 3",
   "language": "python",
   "name": "python3"
  },
  "language_info": {
   "codemirror_mode": {
    "name": "ipython",
    "version": 3
   },
   "file_extension": ".py",
   "mimetype": "text/x-python",
   "name": "python",
   "nbconvert_exporter": "python",
   "pygments_lexer": "ipython3",
   "version": "3.9.4"
  }
 },
 "nbformat": 4,
 "nbformat_minor": 5
}
