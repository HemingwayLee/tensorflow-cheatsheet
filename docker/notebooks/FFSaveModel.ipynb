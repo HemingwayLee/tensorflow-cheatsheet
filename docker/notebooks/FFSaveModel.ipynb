{
 "cells": [
  {
   "cell_type": "markdown",
   "id": "59b15fb7",
   "metadata": {},
   "source": [
    "# Demo train, and save\n",
    "* Run without optimizer, the loss won't change after epoch\n",
    "* `name` should be there in Tensor"
   ]
  },
  {
   "cell_type": "code",
   "execution_count": 11,
   "id": "cae65cea",
   "metadata": {},
   "outputs": [
    {
     "name": "stdout",
     "output_type": "stream",
     "text": [
      "23.66\n",
      "W: [0.3] b: [-0.3] loss: 23.66\n",
      "23.66\n",
      "W: [0.3] b: [-0.3] loss: 23.66\n",
      "23.66\n",
      "W: [0.3] b: [-0.3] loss: 23.66\n"
     ]
    }
   ],
   "source": [
    "import tensorflow.compat.v1 as tf\n",
    "tf.disable_v2_behavior() \n",
    "\n",
    "W = tf.Variable([.3], dtype=tf.float32, name=\"myW\")\n",
    "b = tf.Variable([-.3], dtype=tf.float32, name=\"myb\")\n",
    "x = tf.placeholder(tf.float32, name=\"myx\")\n",
    "linear_model = W*x + b\n",
    "y = tf.placeholder(tf.float32, name='myy')\n",
    "\n",
    "err = tf.square(linear_model - y)\n",
    "loss = tf.reduce_sum(err, name=\"myloss\") # sum of the squares\n",
    "\n",
    "x_train = [1, 2, 3, 4]\n",
    "y_train = [0, -1, -2, -3]\n",
    "\n",
    "init = tf.global_variables_initializer()\n",
    "sess = tf.Session()\n",
    "sess.run(init)\n",
    "for i in range(3):\n",
    "    print(sess.run(loss, {x: x_train, y: y_train}))\n",
    "\n",
    "    curr_W, curr_b, curr_loss = sess.run([W, b, loss], {x: x_train, y: y_train})\n",
    "    print(\"W: %s b: %s loss: %s\"%(curr_W, curr_b, curr_loss))"
   ]
  },
  {
   "cell_type": "markdown",
   "id": "0fe80b89",
   "metadata": {},
   "source": [
    "* Run with optimizer"
   ]
  },
  {
   "cell_type": "code",
   "execution_count": 12,
   "id": "d55b1e15",
   "metadata": {},
   "outputs": [
    {
     "name": "stdout",
     "output_type": "stream",
     "text": [
      "W: [-0.21999997] b: [-0.456] loss: 4.0181446\n",
      "W: [-0.39679998] b: [-0.49552] loss: 1.8198745\n",
      "W: [-0.459616] b: [-0.4965184] loss: 1.5448234\n",
      "W: [-0.48454273] b: [-0.48487374] loss: 1.4825068\n",
      "W: [-0.49684232] b: [-0.4691753] loss: 1.444397\n",
      "W: [-0.5049019] b: [-0.45227283] loss: 1.409699\n",
      "W: [-0.5115062] b: [-0.43511063] loss: 1.3761029\n",
      "W: [-0.51758033] b: [-0.41800055] loss: 1.3433373\n",
      "W: [-0.523432] b: [-0.40104443] loss: 1.3113549\n",
      "W: [-0.52916396] b: [-0.38427448] loss: 1.2801344\n"
     ]
    }
   ],
   "source": [
    "# build-in optimizer\n",
    "optimizer = tf.train.GradientDescentOptimizer(0.01)\n",
    "train = optimizer.minimize(loss)\n",
    "\n",
    "for i in range(10):\n",
    "    sess.run(train, {x: x_train, y: y_train})\n",
    "\n",
    "    curr_W, curr_b, curr_loss = sess.run([W, b, loss], {x: x_train, y: y_train})\n",
    "    print(\"W: %s b: %s loss: %s\"%(curr_W, curr_b, curr_loss))"
   ]
  },
  {
   "cell_type": "code",
   "execution_count": 18,
   "id": "76e5e603",
   "metadata": {},
   "outputs": [
    {
     "name": "stdout",
     "output_type": "stream",
     "text": [
      "curr_W: [-0.52916396], curr_b: [-0.38427448]\n"
     ]
    }
   ],
   "source": [
    "curr_W, curr_b = sess.run([W, b], {x: 1.0})\n",
    "print(f\"curr_W: {curr_W}, curr_b: {curr_b}\")"
   ]
  },
  {
   "cell_type": "code",
   "execution_count": 19,
   "id": "f2411a3a",
   "metadata": {},
   "outputs": [
    {
     "name": "stdout",
     "output_type": "stream",
     "text": [
      "1625401611.1656039\n"
     ]
    },
    {
     "data": {
      "text/plain": [
       "['.meta', 'checkpoint', '.index', '.data-00000-of-00001']"
      ]
     },
     "execution_count": 19,
     "metadata": {},
     "output_type": "execute_result"
    }
   ],
   "source": [
    "import os\n",
    "import time\n",
    "saver = tf.train.Saver()\n",
    "now = time.time()\n",
    "os.makedirs(f'../artifacts/FFSaveModel/{now}/')\n",
    "saver.save(sess, f'../artifacts/FFSaveModel/{now}/')\n",
    "\n",
    "print(now)\n",
    "os.listdir(f'../artifacts/FFSaveModel/{now}/')"
   ]
  }
 ],
 "metadata": {
  "kernelspec": {
   "display_name": "Python 3 (ipykernel)",
   "language": "python",
   "name": "python3"
  },
  "language_info": {
   "codemirror_mode": {
    "name": "ipython",
    "version": 3
   },
   "file_extension": ".py",
   "mimetype": "text/x-python",
   "name": "python",
   "nbconvert_exporter": "python",
   "pygments_lexer": "ipython3",
   "version": "3.9.5"
  }
 },
 "nbformat": 4,
 "nbformat_minor": 5
}
