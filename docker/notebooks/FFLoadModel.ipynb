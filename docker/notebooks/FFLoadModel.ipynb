{
 "cells": [
  {
   "cell_type": "code",
   "execution_count": 8,
   "id": "82cc337a",
   "metadata": {},
   "outputs": [
    {
     "name": "stdout",
     "output_type": "stream",
     "text": [
      "INFO:tensorflow:Restoring parameters from ../artifacts/FFSaveModel/1625401611.1656039/\n",
      "W: [0.3] b: [-0.3]\n"
     ]
    }
   ],
   "source": [
    "import os\n",
    "import time\n",
    "import tensorflow.compat.v1 as tf\n",
    "tf.disable_v2_behavior() \n",
    "\n",
    "# delete the current graph\n",
    "tf.reset_default_graph()\n",
    "imported_graph = tf.train.import_meta_graph('../artifacts/FFSaveModel/1625401611.1656039/.meta')\n",
    "with tf.Session() as sess:\n",
    "    imported_graph.restore(sess, '../artifacts/FFSaveModel/1625401611.1656039/')        \n",
    "    \n",
    "    curr_W, curr_b = sess.run(['myW:0', 'myb:0'], feed_dict={'myx:0': 1.0})\n",
    "    print(\"W: %s b: %s\"%(curr_W, curr_b))"
   ]
  }
 ],
 "metadata": {
  "kernelspec": {
   "display_name": "Python 3 (ipykernel)",
   "language": "python",
   "name": "python3"
  },
  "language_info": {
   "codemirror_mode": {
    "name": "ipython",
    "version": 3
   },
   "file_extension": ".py",
   "mimetype": "text/x-python",
   "name": "python",
   "nbconvert_exporter": "python",
   "pygments_lexer": "ipython3",
   "version": "3.9.5"
  }
 },
 "nbformat": 4,
 "nbformat_minor": 5
}
