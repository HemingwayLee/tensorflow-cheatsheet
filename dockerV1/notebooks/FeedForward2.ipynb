{
 "cells": [
  {
   "cell_type": "markdown",
   "metadata": {},
   "source": [
    "# Feed forward (3x2)\n",
    "* check the value of linear model"
   ]
  },
  {
   "cell_type": "code",
   "execution_count": 2,
   "metadata": {},
   "outputs": [
    {
     "name": "stdout",
     "output_type": "stream",
     "text": [
      "[[0.3       0.6       1.1      ]\n",
      " [0.5       1.1       2.1000001]]\n"
     ]
    }
   ],
   "source": [
    "import tensorflow as tf\n",
    "\n",
    "W = tf.Variable([[.1, .2, .3], [.2, .4, .6]], dtype=tf.float32)\n",
    "b = tf.Variable([[.2], [.3]], dtype=tf.float32)\n",
    "x = tf.placeholder(tf.float32)\n",
    "\n",
    "linear_model = W*x + b\n",
    "\n",
    "init = tf.global_variables_initializer()\n",
    "sess = tf.Session()\n",
    "sess.run(init)\n",
    "print(sess.run(linear_model, {x: [1., 2., 3.]}))\n"
   ]
  },
  {
   "cell_type": "markdown",
   "metadata": {},
   "source": [
    "* check the value of reduce"
   ]
  },
  {
   "cell_type": "code",
   "execution_count": 3,
   "metadata": {},
   "outputs": [
    {
     "name": "stdout",
     "output_type": "stream",
     "text": [
      "5.7\n",
      "[2.        3.7000003]\n"
     ]
    }
   ],
   "source": [
    "summary = tf.reduce_sum(linear_model)\n",
    "print(sess.run(summary, {x: [1., 2., 3.]}))\n",
    "\n",
    "summary_1 = tf.reduce_sum(linear_model, 1)\n",
    "print(sess.run(summary_1, {x: [1., 2., 3.]}))"
   ]
  },
  {
   "cell_type": "markdown",
   "metadata": {},
   "source": [
    "* check the value of sigmod"
   ]
  },
  {
   "cell_type": "code",
   "execution_count": 4,
   "metadata": {},
   "outputs": [
    {
     "name": "stdout",
     "output_type": "stream",
     "text": [
      "[0.880797 0.975873]\n"
     ]
    }
   ],
   "source": [
    "sig = tf.nn.sigmoid(summary_1)\n",
    "print(sess.run(sig, {x: [1., 2., 3.]}))"
   ]
  },
  {
   "cell_type": "markdown",
   "metadata": {},
   "source": [
    "# print loss with optimizer"
   ]
  },
  {
   "cell_type": "code",
   "execution_count": 7,
   "metadata": {},
   "outputs": [
    {
     "name": "stdout",
     "output_type": "stream",
     "text": [
      "W:\n",
      "[[0.1 0.2 0.3]\n",
      " [0.2 0.4 0.6]]\n",
      "b:\n",
      "[[0.2]\n",
      " [0.3]]\n",
      "loss: 0.7763855\n",
      "W:\n",
      "[[0.1 0.2 0.3]\n",
      " [0.2 0.4 0.6]]\n",
      "b:\n",
      "[[0.2]\n",
      " [0.3]]\n",
      "loss: 0.7763855\n",
      "W:\n",
      "[[0.1 0.2 0.3]\n",
      " [0.2 0.4 0.6]]\n",
      "b:\n",
      "[[0.2]\n",
      " [0.3]]\n",
      "loss: 0.7763855\n"
     ]
    }
   ],
   "source": [
    "# will put y_train = [0., 1.] into placeholder y\n",
    "y = tf.placeholder(tf.float32)\n",
    "\n",
    "err = tf.square(sig - y)\n",
    "loss = tf.reduce_sum(err)\n",
    "\n",
    "x_train = [1., 2., 3.]\n",
    "y_train = [0., 1.]\n",
    "\n",
    "init = tf.global_variables_initializer()\n",
    "sess = tf.Session()\n",
    "sess.run(init)\n",
    "for i in range(3):\n",
    "    curr_W, curr_b, curr_loss = sess.run([W, b, loss], {x: x_train, y: y_train})\n",
    "    print(\"W:\\n%s\\nb:\\n%s\\nloss: %s\"%(curr_W, curr_b, curr_loss))"
   ]
  },
  {
   "cell_type": "markdown",
   "metadata": {},
   "source": [
    "# loss with optimizer"
   ]
  },
  {
   "cell_type": "code",
   "execution_count": 10,
   "metadata": {},
   "outputs": [
    {
     "name": "stdout",
     "output_type": "stream",
     "text": [
      "W:\n",
      "[[0.04451909 0.08903817 0.13355726]\n",
      " [0.20025998 0.40051997 0.60077995]]\n",
      "b:\n",
      "[[0.03355726]\n",
      " [0.30077994]]\n",
      "loss: 0.45414236\n",
      "Sig: [0.67347383 0.9760133 ]\n",
      "y: [0. 1.]\n",
      "err: [0.453567   0.00057536]\n",
      "W:\n",
      "[[0.01836967 0.03673934 0.05510902]\n",
      " [0.20036091 0.40072182 0.60108274]]\n",
      "b:\n",
      "[[-0.04489098]\n",
      " [ 0.30108276]]\n",
      "loss: 0.2820957\n",
      "Sig: [0.5305874 0.9760677]\n",
      "y: [0. 1.]\n",
      "err: [0.28152296 0.00057275]\n",
      "W:\n",
      "[[-0.0033956  -0.00679119 -0.01018678]\n",
      " [ 0.20046139  0.40092278  0.60138416]]\n",
      "b:\n",
      "[[-0.11018679]\n",
      " [ 0.30138424]]\n",
      "loss: 0.16588198\n",
      "Sig: [0.40658554 0.97612154]\n",
      "y: [0. 1.]\n",
      "err: [0.1653118  0.00057018]\n",
      "W:\n",
      "[[-0.01925026 -0.03850051 -0.05775075]\n",
      " [ 0.20056142  0.40112284  0.6016843 ]]\n",
      "b:\n",
      "[[-0.15775077]\n",
      " [ 0.30168438]]\n",
      "loss: 0.10451054\n",
      "Sig: [0.3224018 0.9761752]\n",
      "y: [0. 1.]\n",
      "err: [0.10394292 0.00056762]\n",
      "W:\n",
      "[[-0.03074025 -0.0614805  -0.09222075]\n",
      " [ 0.20066102  0.40132204  0.601983  ]]\n",
      "b:\n",
      "[[-0.19222076]\n",
      " [ 0.30198318]]\n",
      "loss: 0.07215469\n",
      "Sig: [0.26756233 0.97622836]\n",
      "y: [0. 1.]\n",
      "err: [0.0715896  0.00056509]\n",
      "W:\n",
      "[[-0.03941725 -0.0788345  -0.11825176]\n",
      " [ 0.20076017  0.40152034  0.6022805 ]]\n",
      "b:\n",
      "[[-0.21825178]\n",
      " [ 0.30228063]]\n",
      "loss: 0.0536024\n",
      "Sig: [0.23030376 0.9762813 ]\n",
      "y: [0. 1.]\n",
      "err: [0.05303982 0.00056258]\n"
     ]
    }
   ],
   "source": [
    "# build-in optimizer\n",
    "optimizer = tf.train.GradientDescentOptimizer(0.03)\n",
    "train = optimizer.minimize(loss)\n",
    "\n",
    "show_step = 3\n",
    "losses = []\n",
    "for i in range(16):\n",
    "    sess.run(train, {x: x_train, y: y_train})\n",
    "    curr_W, curr_b, curr_loss = sess.run([W, b, loss], {x: x_train, y: y_train})\n",
    "    curr_Sig, curr_y, curr_err = sess.run([sig, y, err], {x: x_train, y: y_train})\n",
    "    \n",
    "    if i % 3 == 0:\n",
    "        print(\"W:\\n%s\\nb:\\n%s\\nloss: %s\"%(curr_W, curr_b, curr_loss))\n",
    "        print(\"Sig: %s\\ny: %s\\nerr: %s\"%(curr_Sig, curr_y, curr_err))\n",
    "        \n",
    "    losses.append(curr_loss)"
   ]
  },
  {
   "cell_type": "code",
   "execution_count": 12,
   "metadata": {},
   "outputs": [
    {
     "data": {
      "image/png": "[encoded data removed]",
      "text/plain": [
       "<Figure size 432x288 with 1 Axes>"
      ]
     },
     "metadata": {
      "needs_background": "light"
     },
     "output_type": "display_data"
    }
   ],
   "source": [
    "import matplotlib.pyplot as plt\n",
    "plt.plot(list(range(0, 16)), losses, label='loss')\n",
    "plt.legend()\n",
    "plt.show()"
   ]
  }
 ],
 "metadata": {
  "kernelspec": {
   "display_name": "Python 3",
   "language": "python",
   "name": "python3"
  },
  "language_info": {
   "codemirror_mode": {
    "name": "ipython",
    "version": 3
   },
   "file_extension": ".py",
   "mimetype": "text/x-python",
   "name": "python",
   "nbconvert_exporter": "python",
   "pygments_lexer": "ipython3",
   "version": "3.7.10"
  }
 },
 "nbformat": 4,
 "nbformat_minor": 2
}
