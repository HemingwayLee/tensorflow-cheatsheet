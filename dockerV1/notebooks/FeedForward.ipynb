{
 "cells": [
  {
   "cell_type": "markdown",
   "metadata": {},
   "source": [
    "# Feed forward (1x1 matrix)"
   ]
  },
  {
   "cell_type": "code",
   "execution_count": 1,
   "metadata": {},
   "outputs": [],
   "source": [
    "import tensorflow as tf\n",
    "\n",
    "W = tf.Variable([.3], dtype=tf.float32)\n",
    "b = tf.Variable([-.3], dtype=tf.float32)\n",
    "x = tf.placeholder(tf.float32)\n",
    "linear_model = W*x + b\n",
    "y = tf.placeholder(tf.float32)\n",
    "\n",
    "err = tf.square(linear_model - y)\n",
    "loss = tf.reduce_sum(err) # sum of the squares\n",
    "\n",
    "x_train = [1, 2, 3, 4]\n",
    "y_train = [0, -1, -2, -3]"
   ]
  },
  {
   "cell_type": "markdown",
   "metadata": {},
   "source": [
    "# Loss without optimizer\n",
    "* because there is no optimizer, the value of loss will not be changed"
   ]
  },
  {
   "cell_type": "code",
   "execution_count": 2,
   "metadata": {},
   "outputs": [
    {
     "name": "stdout",
     "output_type": "stream",
     "text": [
      "23.66\n",
      "W: [0.3] b: [-0.3] loss: 23.66\n",
      "23.66\n",
      "W: [0.3] b: [-0.3] loss: 23.66\n",
      "23.66\n",
      "W: [0.3] b: [-0.3] loss: 23.66\n",
      "23.66\n",
      "W: [0.3] b: [-0.3] loss: 23.66\n",
      "23.66\n",
      "W: [0.3] b: [-0.3] loss: 23.66\n",
      "23.66\n",
      "W: [0.3] b: [-0.3] loss: 23.66\n",
      "23.66\n",
      "W: [0.3] b: [-0.3] loss: 23.66\n",
      "23.66\n",
      "W: [0.3] b: [-0.3] loss: 23.66\n",
      "23.66\n",
      "W: [0.3] b: [-0.3] loss: 23.66\n",
      "23.66\n",
      "W: [0.3] b: [-0.3] loss: 23.66\n"
     ]
    }
   ],
   "source": [
    "init = tf.global_variables_initializer()\n",
    "sess = tf.Session()\n",
    "sess.run(init)\n",
    "for i in range(10):\n",
    "  print(sess.run(loss, {x: x_train, y: y_train}))\n",
    "\n",
    "  curr_W, curr_b, curr_loss = sess.run([W, b, loss], {x: x_train, y: y_train})\n",
    "  print(\"W: %s b: %s loss: %s\"%(curr_W, curr_b, curr_loss))"
   ]
  },
  {
   "cell_type": "markdown",
   "metadata": {},
   "source": [
    "# with Optimizer"
   ]
  },
  {
   "cell_type": "code",
   "execution_count": 6,
   "metadata": {},
   "outputs": [
    {
     "name": "stdout",
     "output_type": "stream",
     "text": [
      "W: [-0.6344227] b: [-0.07484178] loss: 0.7717872\n",
      "W: [-0.63880074] b: [-0.0619699] loss: 0.7534125\n",
      "W: [-0.6431263] b: [-0.04925216] loss: 0.7354754\n",
      "W: [-0.6474001] b: [-0.03668672] loss: 0.71796554\n",
      "W: [-0.6516227] b: [-0.02427177] loss: 0.7008723\n",
      "W: [-0.65579474] b: [-0.01200549] loss: 0.684186\n",
      "W: [-0.6599168] b: [0.0001139] loss: 0.6678971\n",
      "W: [-0.6639895] b: [0.01208815] loss: 0.6519958\n",
      "W: [-0.66801345] b: [0.02391899] loss: 0.63647336\n",
      "W: [-0.6719892] b: [0.03560816] loss: 0.6213202\n"
     ]
    }
   ],
   "source": [
    "# build-in optimizer\n",
    "optimizer = tf.train.GradientDescentOptimizer(0.01)\n",
    "train = optimizer.minimize(loss)\n",
    "\n",
    "losses = []\n",
    "for i in range(10):\n",
    "  sess.run(train, {x: x_train, y: y_train})\n",
    "\n",
    "  curr_W, curr_b, curr_loss = sess.run([W, b, loss], {x: x_train, y: y_train})\n",
    "  print(\"W: %s b: %s loss: %s\"%(curr_W, curr_b, curr_loss))\n",
    "  losses.append(curr_loss)"
   ]
  },
  {
   "cell_type": "code",
   "execution_count": 9,
   "metadata": {},
   "outputs": [
    {
     "data": {
      "image/png": "[encoded data removed]",
      "text/plain": [
       "<Figure size 432x288 with 1 Axes>"
      ]
     },
     "metadata": {
      "needs_background": "light"
     },
     "output_type": "display_data"
    }
   ],
   "source": [
    "import matplotlib.pyplot as plt\n",
    "plt.plot(list(range(0, 10)), losses, label='loss')\n",
    "plt.legend()\n",
    "plt.show()"
   ]
  }
 ],
 "metadata": {
  "kernelspec": {
   "display_name": "Python 3",
   "language": "python",
   "name": "python3"
  },
  "language_info": {
   "codemirror_mode": {
    "name": "ipython",
    "version": 3
   },
   "file_extension": ".py",
   "mimetype": "text/x-python",
   "name": "python",
   "nbconvert_exporter": "python",
   "pygments_lexer": "ipython3",
   "version": "3.7.10"
  }
 },
 "nbformat": 4,
 "nbformat_minor": 2
}
