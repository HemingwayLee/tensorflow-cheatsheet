{
 "cells": [
  {
   "cell_type": "code",
   "execution_count": 1,
   "metadata": {},
   "outputs": [],
   "source": [
    "import tensorflow as tf\n",
    "\n",
    "W = tf.Variable([[.1, .2, .3], [.2, .4, .6]], dtype=tf.float32)\n",
    "b = tf.Variable([[.2], [.3]], dtype=tf.float32)\n",
    "x = tf.placeholder(tf.float32)\n",
    "\n",
    "linear_model = W*x + b\n",
    "summary = tf.reduce_sum(linear_model, 1)\n",
    "sig = tf.nn.sigmoid(summary)\n",
    "y = tf.placeholder(tf.float32)"
   ]
  },
  {
   "cell_type": "code",
   "execution_count": 2,
   "metadata": {},
   "outputs": [
    {
     "name": "stdout",
     "output_type": "stream",
     "text": [
      "[array([0.880797, 0.975873], dtype=float32), array([ 0.        , -0.02412701], dtype=float32)]\n"
     ]
    }
   ],
   "source": [
    "tmp = (sig * y * y) - y\n",
    "err = tf.square(tmp)\n",
    "loss = tf.reduce_sum(err)\n",
    "\n",
    "\n",
    "init = tf.global_variables_initializer()\n",
    "sess = tf.Session()\n",
    "sess.run(init)\n",
    "\n",
    "print(sess.run([sig, tmp], {x: [1., 2., 3.], y: [0., 1.]}))\n"
   ]
  },
  {
   "cell_type": "code",
   "execution_count": 3,
   "metadata": {},
   "outputs": [
    {
     "name": "stdout",
     "output_type": "stream",
     "text": [
      "predicted: [0.880797   0.97587913]\n",
      "label: [0. 1.]\n",
      "loss: 0.00058181625\n",
      "predicted: [0.880797  0.9758852]\n",
      "label: [0. 1.]\n",
      "loss: 0.000581523\n",
      "predicted: [0.880797  0.9758915]\n",
      "label: [0. 1.]\n",
      "loss: 0.0005812212\n",
      "predicted: [0.880797  0.9758976]\n",
      "label: [0. 1.]\n",
      "loss: 0.0005809252\n",
      "predicted: [0.880797   0.97590375]\n",
      "label: [0. 1.]\n",
      "loss: 0.0005806293\n",
      "predicted: [0.880797  0.9759099]\n",
      "label: [0. 1.]\n",
      "loss: 0.00058033346\n",
      "predicted: [0.880797  0.9759159]\n",
      "label: [0. 1.]\n",
      "loss: 0.0005800435\n",
      "predicted: [0.880797   0.97592205]\n",
      "label: [0. 1.]\n",
      "loss: 0.0005797478\n",
      "predicted: [0.880797  0.9759281]\n",
      "label: [0. 1.]\n",
      "loss: 0.00057945505\n",
      "predicted: [0.880797   0.97593427]\n",
      "label: [0. 1.]\n",
      "loss: 0.0005791595\n"
     ]
    }
   ],
   "source": [
    "def my_loss(y_pred, y_true):\n",
    "    tmp = (y_pred * y_true * y_true) - y_true\n",
    "    err = tf.square(tmp)\n",
    "    return tf.reduce_sum(err)\n",
    "\n",
    "loss = my_loss(sig, y)\n",
    "\n",
    "x_train = [1., 2., 3.]\n",
    "y_train = [0., 1.]\n",
    "\n",
    "optimizer = tf.train.GradientDescentOptimizer(0.01)\n",
    "train = optimizer.minimize(loss)\n",
    "\n",
    "sess.run(init)\n",
    "for i in range(10):\n",
    "  sess.run(train, {x: x_train, y: y_train})\n",
    "\n",
    "  curr_Sig, curr_y, curr_loss = sess.run([sig, y, loss], {x: x_train, y: y_train})\n",
    "  print(\"predicted: %s\\nlabel: %s\\nloss: %s\"%(curr_Sig, curr_y, curr_loss))"
   ]
  },
  {
   "cell_type": "code",
   "execution_count": null,
   "metadata": {},
   "outputs": [],
   "source": []
  }
 ],
 "metadata": {
  "kernelspec": {
   "display_name": "Python 3",
   "language": "python",
   "name": "python3"
  },
  "language_info": {
   "codemirror_mode": {
    "name": "ipython",
    "version": 3
   },
   "file_extension": ".py",
   "mimetype": "text/x-python",
   "name": "python",
   "nbconvert_exporter": "python",
   "pygments_lexer": "ipython3",
   "version": "3.7.10"
  }
 },
 "nbformat": 4,
 "nbformat_minor": 2
}
